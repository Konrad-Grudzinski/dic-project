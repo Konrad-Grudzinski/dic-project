{
 "cells": [
  {
   "cell_type": "code",
   "execution_count": null,
   "id": "6a6480c8",
   "metadata": {},
   "outputs": [],
   "source": [
    "from pyspark.sql import SparkSession\n",
    "from pyspark.sql.types import StructType, StringType, TimestampType, DoubleType, IntegerType\n",
    "from pyspark.sql.window import Window\n",
    "import pyspark.sql.functions as f\n",
    "import os\n",
    "from custom_utils import *"
   ]
  },
  {
   "cell_type": "code",
   "execution_count": null,
   "id": "e40cdb4c",
   "metadata": {},
   "outputs": [],
   "source": [
    "spark = SparkSession.\\\n",
    "    builder.\\\n",
    "    appName(\"merge_stations_and_fuel_data-notebook\").\\\n",
    "    getOrCreate()"
   ]
  },
  {
   "cell_type": "code",
   "execution_count": null,
   "id": "3e8ac0b8",
   "metadata": {
    "scrolled": true
   },
   "outputs": [],
   "source": [
    "fuel_files = recursive_file_retrieval(os.path.join(project_base_dir, f\"tankerkoenig-data/prices/{year}/\"), month_strings)"
   ]
  },
  {
   "cell_type": "code",
   "execution_count": null,
   "id": "bee88447",
   "metadata": {},
   "outputs": [],
   "source": [
    "len(fuel_files)"
   ]
  },
  {
   "cell_type": "code",
   "execution_count": null,
   "id": "18fdd2b3",
   "metadata": {},
   "outputs": [],
   "source": [
    "fuel_schema = StructType() \\\n",
    "      .add(\"date\",TimestampType(),True) \\\n",
    "      .add(\"station_uuid\",StringType(),True) \\\n",
    "      .add(\"diesel\",DoubleType(),True) \\\n",
    "      .add(\"e5\",DoubleType(),True) \\\n",
    "      .add(\"e10\",DoubleType(),True) \\\n",
    "      .add(\"dieselchange\",IntegerType(),True) \\\n",
    "      .add(\"e5change\",IntegerType(),True) \\\n",
    "      .add(\"e10change\",IntegerType(),True)"
   ]
  },
  {
   "cell_type": "code",
   "execution_count": null,
   "id": "db1019e0",
   "metadata": {},
   "outputs": [],
   "source": [
    "all_fuel_data = spark.read.format(\"csv\") \\\n",
    "      .option(\"header\", True) \\\n",
    "      .schema(fuel_schema) \\\n",
    "      .load(fuel_files)"
   ]
  },
  {
   "cell_type": "code",
   "execution_count": null,
   "id": "833228cf",
   "metadata": {},
   "outputs": [],
   "source": [
    "all_fuel_data.show(10)"
   ]
  },
  {
   "cell_type": "code",
   "execution_count": null,
   "id": "58eba75d",
   "metadata": {},
   "outputs": [],
   "source": [
    "stations_schema = StructType() \\\n",
    "      .add(\"station_uuid\",StringType(),True) \\\n",
    "      .add(\"latitude\",DoubleType(),True) \\\n",
    "      .add(\"longitude\",DoubleType(),True) \\\n",
    "      .add(\"city\",StringType(),True)"
   ]
  },
  {
   "cell_type": "code",
   "execution_count": null,
   "id": "881c087b",
   "metadata": {},
   "outputs": [],
   "source": [
    "stations_data = spark.read.format(\"csv\") \\\n",
    "      .schema(stations_schema) \\\n",
    "      .load(os.path.join(project_base_dir, \"outputs/selected_stations_unique.csv\"))"
   ]
  },
  {
   "cell_type": "code",
   "execution_count": null,
   "id": "02beaeb0",
   "metadata": {},
   "outputs": [],
   "source": [
    "stations_data.show()"
   ]
  },
  {
   "cell_type": "code",
   "execution_count": null,
   "id": "bc5b8fe2",
   "metadata": {},
   "outputs": [],
   "source": [
    "joined_data = all_fuel_data \\\n",
    "    .join(stations_data, [\"station_uuid\"])"
   ]
  },
  {
   "cell_type": "code",
   "execution_count": null,
   "id": "5a44433f",
   "metadata": {},
   "outputs": [],
   "source": [
    "joined_data.show(10)"
   ]
  },
  {
   "cell_type": "code",
   "execution_count": null,
   "id": "425d70c1",
   "metadata": {},
   "outputs": [],
   "source": [
    "filtered_data = joined_data \\\n",
    "    .filter((f.col(f\"{fuel_type}change\") > 0) & (f.col(fuel_type) > 0)) \\\n",
    "    .select(\"date\", \"station_uuid\", fuel_type, \"latitude\", \"longitude\") \\\n",
    "    .withColumnRenamed(\"date\", \"dateTime\")"
   ]
  },
  {
   "cell_type": "code",
   "execution_count": null,
   "id": "281181da",
   "metadata": {},
   "outputs": [],
   "source": [
    "filtered_data.show(10)\n",
    "print(filtered_data.count())"
   ]
  },
  {
   "cell_type": "code",
   "execution_count": null,
   "id": "d81ed35f",
   "metadata": {},
   "outputs": [],
   "source": [
    "with_date_data = filtered_data \\\n",
    "    .withColumn(\"date\", f.to_date(f.col(\"dateTime\")))"
   ]
  },
  {
   "cell_type": "code",
   "execution_count": null,
   "id": "de3ed963",
   "metadata": {},
   "outputs": [],
   "source": [
    "date_and_time_data = with_date_data \\\n",
    "    .withColumn(\"truncated_timestamp\", f.date_trunc(\"minute\", col(\"dateTime\"))) \\\n",
    "    .withColumn(\"minutes\", f.minute(col(\"truncated_timestamp\"))) \\\n",
    "    .withColumn(\"new_minutes\", f.round(f.col(\"minutes\")/60)*60) \\\n",
    "    .withColumn(\"add_seconds\", (f.col(\"new_minutes\") - f.col(\"minutes\")) * 60) \\\n",
    "    .withColumn(\"new_timestamp\", f.from_unixtime(f.unix_timestamp(\"truncated_timestamp\") + f.col(\"add_seconds\"))) \\\n",
    "    .withColumn(\"hour\", f.hour(col(\"new_timestamp\"))) \\\n",
    "    .drop(\"truncated_timestamp\", \"minutes\", \"new_minutes\", \"add_seconds\", \"new_timestamp\")"
   ]
  },
  {
   "cell_type": "code",
   "execution_count": null,
   "id": "56f6e0ba",
   "metadata": {},
   "outputs": [],
   "source": [
    "date_and_time_data.orderBy(f.rand()).limit(10).show(), print(date_and_time_data.count())"
   ]
  },
  {
   "cell_type": "code",
   "execution_count": null,
   "id": "5b16bb9c",
   "metadata": {},
   "outputs": [],
   "source": [
    "# if there are multiple price changes within a single time slot, only take one\n",
    "w2 = Window.partitionBy([\"station_uuid\", \"date\", \"hour\"]).orderBy(f.col(\"hour\"))\n",
    "deduplicated_timeslot_data = date_and_time_data \\\n",
    "    .withColumn(\"row\", f.row_number().over(w2)) \\\n",
    "    .filter(col(\"row\") == 1) \\\n",
    "    .drop(\"row\")"
   ]
  },
  {
   "cell_type": "code",
   "execution_count": null,
   "id": "d0fa0755",
   "metadata": {},
   "outputs": [],
   "source": [
    "deduplicated_timeslot_data.show(10)\n",
    "print(deduplicated_timeslot_data.count())"
   ]
  },
  {
   "cell_type": "code",
   "execution_count": null,
   "id": "c5a3f6c9",
   "metadata": {},
   "outputs": [],
   "source": [
    "data_with_weekdays = deduplicated_timeslot_data \\\n",
    "    .withColumn(\"weekday\", f.date_format(col(\"date\"), \"F\"))"
   ]
  },
  {
   "cell_type": "code",
   "execution_count": null,
   "id": "c11fb6a5",
   "metadata": {},
   "outputs": [],
   "source": [
    "data_with_weekdays.show(10)"
   ]
  },
  {
   "cell_type": "code",
   "execution_count": null,
   "id": "cc724c3c",
   "metadata": {},
   "outputs": [],
   "source": [
    "w = Window.partitionBy(\"station_uuid\").orderBy(\"dateTime\").rowsBetween(-rolling_window_size, 0)\n",
    "deviation_data = data_with_weekdays \\\n",
    "    .withColumn('rolling_price_mean', f.avg(fuel_type).over(w)) \\\n",
    "    .withColumn(\"deviation\", f.col(fuel_type) - f.col(\"rolling_price_mean\")) \\\n",
    "    .drop(fuel_type, \"rolling_price_mean\")"
   ]
  },
  {
   "cell_type": "code",
   "execution_count": null,
   "id": "426b0ee9",
   "metadata": {
    "scrolled": false
   },
   "outputs": [],
   "source": [
    "deviation_data.show(10)"
   ]
  },
  {
   "cell_type": "code",
   "execution_count": null,
   "id": "e1c56c60",
   "metadata": {},
   "outputs": [],
   "source": [
    "deviation_data.write \\\n",
    "    .option(\"header\",True) \\\n",
    "    .csv(os.path.join(project_base_dir, \"outputs/preprocessed_price_data.csv\"))"
   ]
  }
 ],
 "metadata": {
  "kernelspec": {
   "display_name": "Python 3 (ipykernel)",
   "language": "python",
   "name": "python3"
  },
  "language_info": {
   "codemirror_mode": {
    "name": "ipython",
    "version": 3
   },
   "file_extension": ".py",
   "mimetype": "text/x-python",
   "name": "python",
   "nbconvert_exporter": "python",
   "pygments_lexer": "ipython3",
   "version": "3.11.5"
  }
 },
 "nbformat": 4,
 "nbformat_minor": 5
}
