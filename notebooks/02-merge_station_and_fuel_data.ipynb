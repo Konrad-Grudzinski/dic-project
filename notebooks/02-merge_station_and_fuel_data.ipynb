{
 "cells": [
  {
   "cell_type": "code",
   "execution_count": null,
   "id": "6aba8e5f",
   "metadata": {},
   "outputs": [],
   "source": [
    "from pyspark.sql import SparkSession\n",
    "from pyspark.sql.types import StructType, StringType, TimestampType, DoubleType, IntegerType\n",
    "from pyspark.sql.window import Window\n",
    "import pyspark.sql.functions as f\n",
    "import os\n",
    "from custom_utils import *"
   ]
  },
  {
   "cell_type": "code",
   "execution_count": null,
   "id": "bd6851fd",
   "metadata": {},
   "outputs": [],
   "source": [
    "spark = SparkSession.\\\n",
    "    builder.\\\n",
    "    appName(\"merge_stations_and_fuel_data-notebook\").\\\n",
    "    getOrCreate()"
   ]
  },
  {
   "cell_type": "code",
   "execution_count": null,
   "id": "21895833",
   "metadata": {
    "scrolled": true
   },
   "outputs": [],
   "source": [
    "fuel_files = recursive_file_retrieval(os.path.join(project_base_dir, f\"tankerkoenig-data/prices/{year}/\"), month_strings)"
   ]
  },
  {
   "cell_type": "code",
   "execution_count": null,
   "id": "db250e17",
   "metadata": {},
   "outputs": [],
   "source": [
    "len(fuel_files)"
   ]
  },
  {
   "cell_type": "code",
   "execution_count": null,
   "id": "015b26d7",
   "metadata": {},
   "outputs": [],
   "source": [
    "fuel_schema = StructType() \\\n",
    "      .add(\"date\",TimestampType(),True) \\\n",
    "      .add(\"station_uuid\",StringType(),True) \\\n",
    "      .add(\"diesel\",DoubleType(),True) \\\n",
    "      .add(\"e5\",DoubleType(),True) \\\n",
    "      .add(\"e10\",DoubleType(),True) \\\n",
    "      .add(\"dieselchange\",IntegerType(),True) \\\n",
    "      .add(\"e5change\",IntegerType(),True) \\\n",
    "      .add(\"e10change\",IntegerType(),True)"
   ]
  },
  {
   "cell_type": "code",
   "execution_count": null,
   "id": "599555fb",
   "metadata": {},
   "outputs": [],
   "source": [
    "all_fuel_data = spark.read.format(\"csv\") \\\n",
    "      .option(\"header\", True) \\\n",
    "      .schema(fuel_schema) \\\n",
    "      .load(fuel_files)"
   ]
  },
  {
   "cell_type": "code",
   "execution_count": null,
   "id": "847d7209",
   "metadata": {},
   "outputs": [],
   "source": [
    "all_fuel_data.show(10)"
   ]
  },
  {
   "cell_type": "code",
   "execution_count": null,
   "id": "a3926cb5",
   "metadata": {},
   "outputs": [],
   "source": [
    "stations_schema = StructType() \\\n",
    "      .add(\"station_uuid\",StringType(),True) \\\n",
    "      .add(\"latitude\",DoubleType(),True) \\\n",
    "      .add(\"longitude\",DoubleType(),True) \\\n",
    "      .add(\"city\",StringType(),True)"
   ]
  },
  {
   "cell_type": "code",
   "execution_count": null,
   "id": "9616079c",
   "metadata": {},
   "outputs": [],
   "source": [
    "stations_data = spark.read.format(\"csv\") \\\n",
    "      .schema(stations_schema) \\\n",
    "      .load(os.path.join(project_base_dir, \"outputs/selected_stations_unique.csv\"))"
   ]
  },
  {
   "cell_type": "code",
   "execution_count": null,
   "id": "be49dd85",
   "metadata": {},
   "outputs": [],
   "source": [
    "stations_data.show()"
   ]
  },
  {
   "cell_type": "code",
   "execution_count": null,
   "id": "4fd92237",
   "metadata": {},
   "outputs": [],
   "source": [
    "joined_data = all_fuel_data \\\n",
    "    .join(stations_data, [\"station_uuid\"])"
   ]
  },
  {
   "cell_type": "code",
   "execution_count": null,
   "id": "cede96a8",
   "metadata": {},
   "outputs": [],
   "source": [
    "joined_data.show(10)"
   ]
  },
  {
   "cell_type": "code",
   "execution_count": null,
   "id": "cc03f07b",
   "metadata": {},
   "outputs": [],
   "source": [
    "filtered_data = joined_data \\\n",
    "    .filter((f.col(f\"{fuel_type}change\") > 0) & (f.col(fuel_type) > 0)) \\\n",
    "    .select(\"date\", \"station_uuid\", fuel_type, \"latitude\", \"longitude\") \\\n",
    "    .withColumnRenamed(\"date\", \"dateTime\")"
   ]
  },
  {
   "cell_type": "code",
   "execution_count": null,
   "id": "6c80d8f3",
   "metadata": {},
   "outputs": [],
   "source": [
    "print(filtered_data.count()), filtered_data.show(10)"
   ]
  },
  {
   "cell_type": "code",
   "execution_count": null,
   "id": "acda7397",
   "metadata": {},
   "outputs": [],
   "source": [
    "with_date_data = filtered_data \\\n",
    "    .withColumn(\"date\", f.to_date(f.col(\"dateTime\")))"
   ]
  },
  {
   "cell_type": "code",
   "execution_count": null,
   "id": "099b6936",
   "metadata": {},
   "outputs": [],
   "source": [
    "date_and_time_data = with_date_data \\\n",
    "    .withColumn(\"truncated_timestamp\", f.date_trunc(\"minute\", col(\"dateTime\"))) \\\n",
    "    .withColumn(\"minutes\", f.minute(col(\"truncated_timestamp\"))) \\\n",
    "    .withColumn(\"new_minutes\", f.round(f.col(\"minutes\")/60)*60) \\\n",
    "    .withColumn(\"add_seconds\", (f.col(\"new_minutes\") - f.col(\"minutes\")) * 60) \\\n",
    "    .withColumn(\"new_timestamp\", f.from_unixtime(f.unix_timestamp(\"truncated_timestamp\") + f.col(\"add_seconds\"))) \\\n",
    "    .withColumn(\"hour\", f.hour(col(\"new_timestamp\"))) \\\n",
    "    .drop(\"truncated_timestamp\", \"minutes\", \"new_minutes\", \"add_seconds\", \"new_timestamp\")"
   ]
  },
  {
   "cell_type": "code",
   "execution_count": null,
   "id": "647e9e36",
   "metadata": {},
   "outputs": [],
   "source": [
    "date_and_time_data.orderBy(f.rand()).limit(10).show(), print(date_and_time_data.count())"
   ]
  },
  {
   "cell_type": "code",
   "execution_count": null,
   "id": "fb972277",
   "metadata": {},
   "outputs": [],
   "source": [
    "# if there are multiple price changes within a single time slot, only take one\n",
    "w2 = Window.partitionBy([\"station_uuid\", \"date\", \"hour\"]).orderBy(f.col(\"hour\"))\n",
    "deduplicated_timeslot_data = date_and_time_data \\\n",
    "    .withColumn(\"row\", f.row_number().over(w2)) \\\n",
    "    .filter(col(\"row\") == 1) \\\n",
    "    .drop(\"row\")"
   ]
  },
  {
   "cell_type": "code",
   "execution_count": null,
   "id": "3ed4f24f",
   "metadata": {},
   "outputs": [],
   "source": [
    "deduplicated_timeslot_data.show(10), print(deduplicated_timeslot_data.count())"
   ]
  },
  {
   "cell_type": "code",
   "execution_count": null,
   "id": "fb0cc5bb",
   "metadata": {},
   "outputs": [],
   "source": [
    "data_with_weekdays = deduplicated_timeslot_data \\\n",
    "    .withColumn(\"weekday\", f.date_format(col(\"date\"), \"F\"))"
   ]
  },
  {
   "cell_type": "code",
   "execution_count": null,
   "id": "4ccbfd66",
   "metadata": {},
   "outputs": [],
   "source": [
    "data_with_weekdays.show(10)"
   ]
  },
  {
   "cell_type": "code",
   "execution_count": null,
   "id": "0d7d6729",
   "metadata": {},
   "outputs": [],
   "source": [
    "w = Window.partitionBy(\"station_uuid\").orderBy(\"dateTime\").rowsBetween(-rolling_window_size, 0)\n",
    "deviation_data = data_with_weekdays \\\n",
    "    .withColumn('rolling_price_mean', f.avg(fuel_type).over(w)) \\\n",
    "    .withColumn(\"deviation\", f.col(fuel_type) - f.col(\"rolling_price_mean\")) \\\n",
    "    .drop(fuel_type, \"rolling_price_mean\")"
   ]
  },
  {
   "cell_type": "code",
   "execution_count": null,
   "id": "7457bb90",
   "metadata": {
    "scrolled": false
   },
   "outputs": [],
   "source": [
    "deviation_data.show(10)"
   ]
  },
  {
   "cell_type": "code",
   "execution_count": null,
   "id": "4a30c082",
   "metadata": {},
   "outputs": [],
   "source": [
    "deviation_data.write \\\n",
    "    .option(\"header\",True) \\\n",
    "    .csv(os.path.join(project_base_dir, \"outputs/preprocessed_price_data.csv\"))"
   ]
  }
 ],
 "metadata": {
  "kernelspec": {
   "display_name": "Python 3 (ipykernel)",
   "language": "python",
   "name": "python3"
  },
  "language_info": {
   "codemirror_mode": {
    "name": "ipython",
    "version": 3
   },
   "file_extension": ".py",
   "mimetype": "text/x-python",
   "name": "python",
   "nbconvert_exporter": "python",
   "pygments_lexer": "ipython3",
   "version": "3.11.5"
  }
 },
 "nbformat": 4,
 "nbformat_minor": 5
}
