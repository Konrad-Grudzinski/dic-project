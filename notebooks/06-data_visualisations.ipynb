{
 "cells": [
  {
   "cell_type": "code",
   "execution_count": null,
   "id": "58f0fadb",
   "metadata": {},
   "outputs": [],
   "source": [
    "from pyspark.sql import SparkSession\n",
    "from pyspark.sql.types import StructType, StringType, DoubleType, IntegerType, DateType\n",
    "import pyspark.sql.functions as f\n",
    "import os\n",
    "from custom_utils import project_base_dir, rolling_window_size, fuel_type, visualisation_dir\n",
    "import pandas as pd\n",
    "from matplotlib.patches import Patch\n",
    "import matplotlib.pyplot as plt\n",
    "from calendar import day_name"
   ]
  },
  {
   "cell_type": "code",
   "execution_count": null,
   "id": "2bc01b87",
   "metadata": {},
   "outputs": [],
   "source": [
    "spark = SparkSession.\\\n",
    "    builder.\\\n",
    "    appName(\"visualisation-notebook\").\\\n",
    "    getOrCreate()"
   ]
  },
  {
   "cell_type": "code",
   "execution_count": null,
   "id": "63b220df",
   "metadata": {},
   "outputs": [],
   "source": [
    "training_schema = StructType() \\\n",
    "      .add(\"station_uuid\",StringType(),True) \\\n",
    "      .add(\"date\",DateType(),True) \\\n",
    "      .add(\"hour\",IntegerType(),True) \\\n",
    "      .add(\"weekday\",IntegerType(),True) \\\n",
    "      .add(\"deviation\",DoubleType(),True) \\\n",
    "      .add(\"cloudcover\",IntegerType(),True) \\\n",
    "      .add(\"rain\",DoubleType(),True) \\\n",
    "      .add(\"temperature_2m\",DoubleType(),True) \\\n",
    "      .add(\"hour_sin\",DoubleType(),True) \\\n",
    "      .add(\"hour_cos\",DoubleType(),True) \\\n",
    "      .add(\"weekday_sin\",DoubleType(),True) \\\n",
    "      .add(\"weekday_cos\",DoubleType(),True)"
   ]
  },
  {
   "cell_type": "code",
   "execution_count": null,
   "id": "3ed0ba6a",
   "metadata": {},
   "outputs": [],
   "source": [
    "train_df = spark.read.format(\"csv\") \\\n",
    "      .option(\"header\", True) \\\n",
    "      .schema(training_schema) \\\n",
    "      .load(os.path.join(project_base_dir, \"outputs/training_data.csv\"))"
   ]
  },
  {
   "cell_type": "code",
   "execution_count": null,
   "id": "8c0f3e22",
   "metadata": {},
   "outputs": [],
   "source": [
    "deviation_histogram = train_df.select('deviation').rdd.flatMap(lambda x: x).histogram(50)\n",
    "deviation_mean = train_df.select(f.mean(f.col('deviation')).alias('mean')).collect()[0]['mean']"
   ]
  },
  {
   "cell_type": "code",
   "execution_count": null,
   "id": "2f50eb40",
   "metadata": {},
   "outputs": [],
   "source": [
    "def calculate_mean_position(mean, xticks, label_values):\n",
    "    min_label, max_label = min(label_values), max(label_values)\n",
    "    min_tick, max_tick = min(xticks), max(xticks)\n",
    "    mean_moved = mean - min_label\n",
    "    min_scaled1 = mean_moved / (max_label - min_label)\n",
    "    mean_scaled = min_scaled1 * (max_tick - min_tick)\n",
    "    mean_position = mean_scaled + min_tick\n",
    "    return mean_position\n",
    "\n",
    "def add_mean_deviation(ax, means, tick_labels, custom_labels=[\"mean deviation\"], colours=[\"r\"], add_legend=True):\n",
    "    for c, m in zip(colours, means):\n",
    "        ax.axvline(calculate_mean_position(m, ax.get_xticks(), tick_labels), c=c)\n",
    "    if add_legend:\n",
    "        legend = ax.legend(loc='upper right')\n",
    "        ax = legend.axes\n",
    "\n",
    "        handles, labels = ax.get_legend_handles_labels()\n",
    "        for c, l in zip(colours, custom_labels):\n",
    "            handles.append(Patch(facecolor=c, edgecolor=c))\n",
    "            labels.append(l)\n",
    "\n",
    "        legend._legend_box = None\n",
    "        legend._init_legend_box(handles, labels)\n",
    "        legend._set_loc(legend._loc)\n",
    "        legend.set_title(legend.get_title().get_text())"
   ]
  },
  {
   "cell_type": "code",
   "execution_count": null,
   "id": "80e7100b",
   "metadata": {
    "scrolled": false
   },
   "outputs": [],
   "source": [
    "ax = pd.DataFrame(\n",
    "    list(zip(*deviation_histogram)), \n",
    "    columns=['bin', 'frequency']\n",
    ").set_index(\n",
    "    'bin'\n",
    ").plot(\n",
    "    kind='bar',\n",
    "    figsize=(10, 5),\n",
    "    title=\"Distribution of deviations\"\n",
    ")\n",
    "labels = [item.get_text() for item in ax.get_xticklabels()]\n",
    "tick_labels = [float(label) for label in labels]\n",
    "ax.set_xticklabels([f\"{label:.03f}\" for label in tick_labels])\n",
    "ax.set_xlabel(f\"Deviation of the {fuel_type} price from its {rolling_window_size}-day rolling average\")\n",
    "\n",
    "add_mean_deviation(ax, [deviation_mean], tick_labels)\n",
    "fig = ax.get_figure()\n",
    "fig.tight_layout()\n",
    "fig.savefig(os.path.join(visualisation_dir, \"distribution_of_deviations.svg\"))"
   ]
  },
  {
   "cell_type": "markdown",
   "id": "b7cf9751",
   "metadata": {},
   "source": [
    "#### Plot distribution per weekday"
   ]
  },
  {
   "cell_type": "code",
   "execution_count": null,
   "id": "20941404",
   "metadata": {
    "scrolled": false
   },
   "outputs": [],
   "source": [
    "fig, axis = plt.subplots(7, figsize=(10, 15), sharex=True, sharey=True)\n",
    "for i in range(1, 8):\n",
    "    weekday_deviation = train_df \\\n",
    "        .filter(f.col(\"weekday\") == i) \\\n",
    "        .select('deviation') \\\n",
    "        .rdd.flatMap(lambda x: x)\n",
    "    dev_histogram = weekday_deviation.histogram(50)\n",
    "    ax = axis[i-1]\n",
    "    ax = pd.DataFrame(\n",
    "        list(zip(*dev_histogram)), \n",
    "        columns=['bin', 'frequency']\n",
    "    ).set_index(\n",
    "        'bin'\n",
    "    ).plot(\n",
    "        kind='bar',\n",
    "        ax=ax,\n",
    "        legend=False,\n",
    "        title=day_name[i-1]\n",
    "    )\n",
    "    add_mean_deviation(ax, [deviation_mean], tick_labels, add_legend=i==1)\n",
    "\n",
    "ax.set_xticklabels([f\"{label:.03f}\" for label in tick_labels])\n",
    "ax.set_xlabel(f\"Deviation of the {fuel_type} price from its {rolling_window_size}-day rolling average\")\n",
    "\n",
    "fig.suptitle(f\"{fuel_type.capitalize()} price deviations per weekday\", y=1.003, fontsize=\"xx-large\")\n",
    "fig.tight_layout()\n",
    "fig.savefig(os.path.join(visualisation_dir, \"distribution_of_deviations_per_weekday.svg\"))"
   ]
  },
  {
   "cell_type": "markdown",
   "id": "c181bc9b",
   "metadata": {},
   "source": [
    "#### Plot distribution per hour"
   ]
  },
  {
   "cell_type": "code",
   "execution_count": null,
   "id": "5f395755",
   "metadata": {
    "scrolled": false
   },
   "outputs": [],
   "source": [
    "fig, axis = plt.subplots(12, 2, figsize=(15, 30), sharex=True, sharey=True)\n",
    "for i in range(0, 24):\n",
    "    hour_deviation = train_df \\\n",
    "        .filter(f.col(\"hour\") == i) \\\n",
    "        .select('deviation') \\\n",
    "        .rdd.flatMap(lambda x: x)\n",
    "    dev_histogram = hour_deviation.histogram(50)\n",
    "    dev_mean = hour_deviation.mean()\n",
    "    ax = axis[i//2][i%2]\n",
    "    ax = pd.DataFrame(\n",
    "        list(zip(*dev_histogram)), \n",
    "        columns=['bin', 'frequency']\n",
    "    ).set_index(\n",
    "        'bin'\n",
    "    ).plot(\n",
    "        kind='bar',\n",
    "        ax=ax,\n",
    "        legend=False,\n",
    "        title=str(i)\n",
    "    )\n",
    "    \n",
    "    add_mean_deviation(ax, [deviation_mean], tick_labels, add_legend=i==1)\n",
    "    if i>=22:\n",
    "        labels = [item.get_text() for item in ax.get_xticklabels()]\n",
    "        ax.set_xticklabels([f\"{label:.03f}\" for label in tick_labels])\n",
    "        ax.set_xlabel(\"\")\n",
    "\n",
    "fig.supxlabel(f\"Deviation of the {fuel_type} price from its {rolling_window_size}-day rolling average\", y=-0.001)\n",
    "fig.suptitle(f\"{fuel_type.capitalize()} price deviations per hour\", y=1.002, fontsize=\"xx-large\")\n",
    "fig.tight_layout()\n",
    "fig.savefig(os.path.join(visualisation_dir, \"distribution_of_deviations_per_hour.svg\"))"
   ]
  }
 ],
 "metadata": {
  "kernelspec": {
   "display_name": "Python 3 (ipykernel)",
   "language": "python",
   "name": "python3"
  },
  "language_info": {
   "codemirror_mode": {
    "name": "ipython",
    "version": 3
   },
   "file_extension": ".py",
   "mimetype": "text/x-python",
   "name": "python",
   "nbconvert_exporter": "python",
   "pygments_lexer": "ipython3",
   "version": "3.11.5"
  }
 },
 "nbformat": 4,
 "nbformat_minor": 5
}
