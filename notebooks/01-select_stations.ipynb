{
 "cells": [
  {
   "cell_type": "code",
   "execution_count": null,
   "id": "4b37fe98",
   "metadata": {},
   "outputs": [],
   "source": [
    "# constant\n",
    "year = 2023\n",
    "months = list(range(0, 7)) # January until June\n",
    "month_strings = [f\"{x:02d}\" for x in months]\n",
    "brand = \"esso\"\n",
    "cities = [\"muenchen, berlin, frankfurt\"]"
   ]
  },
  {
   "cell_type": "code",
   "execution_count": null,
   "id": "6aa62951",
   "metadata": {},
   "outputs": [],
   "source": [
    "from pyspark.sql import SparkSession\n",
    "from pyspark.sql.types import StructType, StringType, IntegerType, DoubleType\n",
    "from pyspark.sql.functions import lower, lit, regexp_replace, col, concat, regexp_extract, contains\n",
    "import os"
   ]
  },
  {
   "cell_type": "code",
   "execution_count": null,
   "id": "3d0a29e6",
   "metadata": {},
   "outputs": [],
   "source": [
    "spark = SparkSession.\\\n",
    "    builder.\\\n",
    "    appName(\"preprocessing-notebook\").\\\n",
    "    getOrCreate()"
   ]
  },
  {
   "cell_type": "code",
   "execution_count": null,
   "id": "420e7ae6",
   "metadata": {},
   "outputs": [],
   "source": [
    "def recursive_file_retrieval(path, directory_filters = [], results = []):\n",
    "    if os.path.isfile(path):\n",
    "        results.append(path)\n",
    "    elif os.path.isdir(path):\n",
    "        for f in os.listdir(path):\n",
    "            full_path = os.path.join(path, f)\n",
    "            if os.path.isdir(full_path) and f not in directory_filters:\n",
    "                continue\n",
    "            results.extend(recursive_file_retrieval(full_path, directory_filters, []))\n",
    "    return results"
   ]
  },
  {
   "cell_type": "code",
   "execution_count": null,
   "id": "cd5f531e",
   "metadata": {
    "scrolled": false
   },
   "outputs": [],
   "source": [
    "station_files = recursive_file_retrieval(\"/home/vboxuser/dic-project/tankerkoenig-data/stations/2023/\", month_strings)"
   ]
  },
  {
   "cell_type": "code",
   "execution_count": null,
   "id": "eeacad0a",
   "metadata": {},
   "outputs": [],
   "source": [
    "schema = StructType() \\\n",
    "      .add(\"uuid\",StringType(),True) \\\n",
    "      .add(\"name\",StringType(),True) \\\n",
    "      .add(\"brand\",StringType(),True) \\\n",
    "      .add(\"street\",StringType(),True) \\\n",
    "      .add(\"house_number\",IntegerType(),True) \\\n",
    "      .add(\"post_code\",IntegerType(),True) \\\n",
    "      .add(\"city\",StringType(),True) \\\n",
    "      .add(\"latitude\",DoubleType(),True) \\\n",
    "      .add(\"longitude\",DoubleType(),True) \\\n",
    "      .add(\"first_active\",StringType(),True) \\\n",
    "      .add(\"openingtimes_json\",StringType(),True)"
   ]
  },
  {
   "cell_type": "code",
   "execution_count": null,
   "id": "5b2b2695",
   "metadata": {},
   "outputs": [],
   "source": [
    "all_stations = spark.read.format(\"csv\") \\\n",
    "      .option(\"header\", True) \\\n",
    "      .schema(schema) \\\n",
    "      .load(station_files)"
   ]
  },
  {
   "cell_type": "code",
   "execution_count": null,
   "id": "8497d03a",
   "metadata": {},
   "outputs": [],
   "source": [
    "all_stations.dtypes, all_stations.count()"
   ]
  },
  {
   "cell_type": "code",
   "execution_count": null,
   "id": "b259fe3a",
   "metadata": {},
   "outputs": [],
   "source": [
    "all_stations.show(10)"
   ]
  },
  {
   "cell_type": "code",
   "execution_count": null,
   "id": "2a60b4bb",
   "metadata": {},
   "outputs": [],
   "source": [
    "lower_brand = \"lower_brand\"\n",
    "brand_stations = all_stations \\\n",
    "    .withColumn(lower_brand, lower(all_stations.brand)) \\\n",
    "    .filter(col(lower_brand) == brand) \\\n",
    "    .drop(lower_brand)"
   ]
  },
  {
   "cell_type": "code",
   "execution_count": null,
   "id": "f5663748",
   "metadata": {},
   "outputs": [],
   "source": [
    "brand_stations.show(10)"
   ]
  },
  {
   "cell_type": "code",
   "execution_count": null,
   "id": "22b53d78",
   "metadata": {},
   "outputs": [],
   "source": [
    "standardised_city = \"standardised_city\"\n",
    "standardised_stations = brand_stations \\\n",
    "    .withColumn('lower_city', lower(brand_stations.city)) \\\n",
    "    .withColumn(standardised_city, regexp_replace(col(\"lower_city\"), lit(\"ü\"), lit(\"ue\"))) \\\n",
    "    .drop(\"lower_city\")"
   ]
  },
  {
   "cell_type": "code",
   "execution_count": null,
   "id": "63b59eaa",
   "metadata": {},
   "outputs": [],
   "source": [
    "standardised_stations.show(10)"
   ]
  },
  {
   "cell_type": "code",
   "execution_count": null,
   "id": "a2b220c6",
   "metadata": {},
   "outputs": [],
   "source": [
    "city_rlike = f\"({', '.join(cities)})\".replace(\", \", \"|\")\n",
    "selected_city_stations = standardised_stations \\\n",
    "    .filter(col(standardised_city).rlike(city_rlike))"
   ]
  },
  {
   "cell_type": "code",
   "execution_count": null,
   "id": "25f3231a",
   "metadata": {},
   "outputs": [],
   "source": [
    "selected_city_stations.show(10)"
   ]
  },
  {
   "cell_type": "code",
   "execution_count": null,
   "id": "21249832",
   "metadata": {},
   "outputs": [],
   "source": [
    "# need to remove Frankfurt an der Oder\n",
    "selected_city_stations_clean = selected_city_stations \\\n",
    "    .where(~(col(standardised_city).contains(\"frankfurt\") & (col(\"latitude\") > 51.5)))"
   ]
  },
  {
   "cell_type": "code",
   "execution_count": null,
   "id": "9a6ec0d8",
   "metadata": {},
   "outputs": [],
   "source": [
    "selected_city_stations_clean.show(10),\n",
    "print(selected_city_stations_clean.count())"
   ]
  },
  {
   "cell_type": "code",
   "execution_count": null,
   "id": "f42532c9",
   "metadata": {},
   "outputs": [],
   "source": [
    "selected_city_stations_unique = selected_city_stations_clean \\\n",
    "    .dropDuplicates([\"uuid\"]) \\\n",
    "    .drop(\"name\", \"brand\", \"street\", \"house_number\", \"post_code\", \"city\", \"first_active\", \"openingtimes_json\")"
   ]
  },
  {
   "cell_type": "code",
   "execution_count": null,
   "id": "adfbddcf",
   "metadata": {},
   "outputs": [],
   "source": [
    "n_stations = selected_city_stations_unique.count()\n",
    "selected_city_stations_unique.show(n_stations)\n",
    "print(n_stations)"
   ]
  },
  {
   "cell_type": "code",
   "execution_count": null,
   "id": "34febd88",
   "metadata": {},
   "outputs": [],
   "source": [
    "selected_city_stations_unique.write.csv(\"/home/vboxuser/dic-project/outputs/selected_stations.csv\")"
   ]
  }
 ],
 "metadata": {
  "kernelspec": {
   "display_name": "Python 3 (ipykernel)",
   "language": "python",
   "name": "python3"
  },
  "language_info": {
   "codemirror_mode": {
    "name": "ipython",
    "version": 3
   },
   "file_extension": ".py",
   "mimetype": "text/x-python",
   "name": "python",
   "nbconvert_exporter": "python",
   "pygments_lexer": "ipython3",
   "version": "3.11.5"
  }
 },
 "nbformat": 4,
 "nbformat_minor": 5
}
