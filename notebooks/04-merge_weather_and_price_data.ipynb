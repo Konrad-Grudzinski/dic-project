{
 "cells": [
  {
   "cell_type": "code",
   "execution_count": 1,
   "id": "2b23d57b",
   "metadata": {},
   "outputs": [],
   "source": [
    "from pyspark.sql import SparkSession\n",
    "from pyspark.sql.types import StructType, StringType, TimestampType, DoubleType, IntegerType, DateType\n",
    "import pyspark.sql.functions as f\n",
    "import os\n",
    "from custom_utils import *\n",
    "import math"
   ]
  },
  {
   "cell_type": "code",
   "execution_count": 2,
   "id": "d8edb224",
   "metadata": {},
   "outputs": [
    {
     "name": "stderr",
     "output_type": "stream",
     "text": [
      "23/10/21 12:27:12 WARN Utils: Your hostname, DIC resolves to a loopback address: 127.0.1.1; using 10.0.2.15 instead (on interface enp0s3)\n",
      "23/10/21 12:27:12 WARN Utils: Set SPARK_LOCAL_IP if you need to bind to another address\n"
     ]
    },
    {
     "name": "stdout",
     "output_type": "stream",
     "text": [
      ":: loading settings :: url = jar:file:/home/vboxuser/anaconda3/lib/python3.11/site-packages/pyspark/jars/ivy-2.5.1.jar!/org/apache/ivy/core/settings/ivysettings.xml\n"
     ]
    },
    {
     "name": "stderr",
     "output_type": "stream",
     "text": [
      "Ivy Default Cache set to: /home/vboxuser/.ivy2/cache\n",
      "The jars for the packages stored in: /home/vboxuser/.ivy2/jars\n",
      "org.mongodb.spark#mongo-spark-connector_2.12 added as a dependency\n",
      ":: resolving dependencies :: org.apache.spark#spark-submit-parent-41ce6a1c-ced9-484c-af40-bd3cd6ca9258;1.0\n",
      "\tconfs: [default]\n",
      "\tfound org.mongodb.spark#mongo-spark-connector_2.12;3.0.1 in central\n",
      "\tfound org.mongodb#mongodb-driver-sync;4.0.5 in central\n",
      "\tfound org.mongodb#bson;4.0.5 in central\n",
      "\tfound org.mongodb#mongodb-driver-core;4.0.5 in central\n",
      ":: resolution report :: resolve 172ms :: artifacts dl 9ms\n",
      "\t:: modules in use:\n",
      "\torg.mongodb#bson;4.0.5 from central in [default]\n",
      "\torg.mongodb#mongodb-driver-core;4.0.5 from central in [default]\n",
      "\torg.mongodb#mongodb-driver-sync;4.0.5 from central in [default]\n",
      "\torg.mongodb.spark#mongo-spark-connector_2.12;3.0.1 from central in [default]\n",
      "\t---------------------------------------------------------------------\n",
      "\t|                  |            modules            ||   artifacts   |\n",
      "\t|       conf       | number| search|dwnlded|evicted|| number|dwnlded|\n",
      "\t---------------------------------------------------------------------\n",
      "\t|      default     |   4   |   0   |   0   |   0   ||   4   |   0   |\n",
      "\t---------------------------------------------------------------------\n",
      ":: retrieving :: org.apache.spark#spark-submit-parent-41ce6a1c-ced9-484c-af40-bd3cd6ca9258\n",
      "\tconfs: [default]\n",
      "\t0 artifacts copied, 4 already retrieved (0kB/4ms)\n",
      "23/10/21 12:27:13 WARN NativeCodeLoader: Unable to load native-hadoop library for your platform... using builtin-java classes where applicable\n",
      "Setting default log level to \"WARN\".\n",
      "To adjust logging level use sc.setLogLevel(newLevel). For SparkR, use setLogLevel(newLevel).\n",
      "23/10/21 12:27:14 WARN Utils: Service 'SparkUI' could not bind on port 4040. Attempting port 4041.\n"
     ]
    }
   ],
   "source": [
    "spark = SparkSession.\\\n",
    "    builder.\\\n",
    "    appName(\"merge_weather_and_price_data-notebook\").\\\n",
    "    config(\"spark.mongodb.input.uri\",\"mongodb://127.0.0.1:27017/dic.weather\").\\\n",
    "    config(\"spark.mongodb.output.uri\",\"mongodb://127.0.0.1:27017/dic.weather\").\\\n",
    "    config(\"spark.jars.packages\", \"org.mongodb.spark:mongo-spark-connector_2.12:3.0.1\").\\\n",
    "    getOrCreate()"
   ]
  },
  {
   "cell_type": "code",
   "execution_count": 3,
   "id": "14cbcf76",
   "metadata": {},
   "outputs": [],
   "source": [
    "price_schema = StructType() \\\n",
    "      .add(\"dateTime\",TimestampType(),True) \\\n",
    "      .add(\"station_uuid\",StringType(),True) \\\n",
    "      .add(\"latitude\",DoubleType(),True) \\\n",
    "      .add(\"longitude\",DoubleType(),True) \\\n",
    "      .add(\"date\",DateType(),True) \\\n",
    "      .add(\"hour\",IntegerType(),True) \\\n",
    "      .add(\"weekday\",IntegerType(),True) \\\n",
    "      .add(\"deviation\",DoubleType(),True)"
   ]
  },
  {
   "cell_type": "code",
   "execution_count": 4,
   "id": "fad94a5e",
   "metadata": {},
   "outputs": [],
   "source": [
    "price_data = spark.read.format(\"csv\") \\\n",
    "    .option(\"header\", True) \\\n",
    "    .schema(price_schema) \\\n",
    "    .load(os.path.join(project_base_dir, \"outputs/preprocessed_price_data.csv\"))"
   ]
  },
  {
   "cell_type": "code",
   "execution_count": 5,
   "id": "7a278e57",
   "metadata": {},
   "outputs": [],
   "source": [
    "weather_data = spark.read.format(\"com.mongodb.spark.sql.DefaultSource\").load() \\\n",
    "    .withColumn(\"date2\", f.to_date(f.col(\"date\"))) \\\n",
    "    .drop(\"_id\", \"date\") \\\n",
    "    .withColumnRenamed(\"date2\", \"date\")"
   ]
  },
  {
   "cell_type": "code",
   "execution_count": 6,
   "id": "0e720989",
   "metadata": {},
   "outputs": [],
   "source": [
    "if display_intermediate_dataframes:\n",
    "    weather_data.show(10)\n",
    "    print(weather_data.dtypes)\n",
    "    print(weather_data.count())"
   ]
  },
  {
   "cell_type": "code",
   "execution_count": 7,
   "id": "215274b8",
   "metadata": {},
   "outputs": [],
   "source": [
    "joined_data = price_data.join(weather_data, [\"station_uuid\", \"date\", \"hour\"])"
   ]
  },
  {
   "cell_type": "code",
   "execution_count": 8,
   "id": "fc55e8da",
   "metadata": {},
   "outputs": [],
   "source": [
    "if display_intermediate_dataframes:\n",
    "    joined_data.show(10)\n",
    "    print(joined_data.count())"
   ]
  },
  {
   "cell_type": "code",
   "execution_count": 9,
   "id": "70e0fc66",
   "metadata": {},
   "outputs": [],
   "source": [
    "cyclical_encoded_data = joined_data \\\n",
    "    .withColumn(\"hour_sin\", f.sin(2 * math.pi * f.col(\"hour\") / 24)) \\\n",
    "    .withColumn(\"hour_cos\", f.cos(2 * math.pi * f.col(\"hour\") / 24)) \\\n",
    "    .withColumn(\"weekday_sin\", f.sin(2 * math.pi * f.col(\"weekday\") / 7)) \\\n",
    "    .withColumn(\"weekday_cos\", f.cos(2 * math.pi * f.col(\"weekday\") / 7)) \\\n",
    "    .drop(\"dateTime\", \"latitude\", \"longitude\")"
   ]
  },
  {
   "cell_type": "code",
   "execution_count": 10,
   "id": "87036c2d",
   "metadata": {},
   "outputs": [],
   "source": [
    "if display_intermediate_dataframes:\n",
    "    cyclical_encoded_data.show(10)"
   ]
  },
  {
   "cell_type": "code",
   "execution_count": 11,
   "id": "40e55fcb",
   "metadata": {},
   "outputs": [
    {
     "name": "stderr",
     "output_type": "stream",
     "text": [
      "                                                                                \r"
     ]
    }
   ],
   "source": [
    "cyclical_encoded_data.write \\\n",
    "    .option(\"header\",True) \\\n",
    "    .csv(os.path.join(project_base_dir, \"outputs/training_data.csv\"))"
   ]
  }
 ],
 "metadata": {
  "kernelspec": {
   "display_name": "Python 3 (ipykernel)",
   "language": "python",
   "name": "python3"
  },
  "language_info": {
   "codemirror_mode": {
    "name": "ipython",
    "version": 3
   },
   "file_extension": ".py",
   "mimetype": "text/x-python",
   "name": "python",
   "nbconvert_exporter": "python",
   "pygments_lexer": "ipython3",
   "version": "3.11.5"
  }
 },
 "nbformat": 4,
 "nbformat_minor": 5
}
