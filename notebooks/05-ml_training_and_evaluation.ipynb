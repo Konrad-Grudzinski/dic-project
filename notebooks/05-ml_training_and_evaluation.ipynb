{
 "cells": [
  {
   "cell_type": "code",
   "execution_count": 1,
   "id": "4ab7ae0f",
   "metadata": {},
   "outputs": [],
   "source": [
    "from pyspark.ml.regression import LinearRegression, DecisionTreeRegressor, RandomForestRegressor, GeneralizedLinearRegression\n",
    "from pyspark.ml.feature import VectorAssembler\n",
    "from pyspark.ml.evaluation import RegressionEvaluator\n",
    "from pyspark.sql import SparkSession\n",
    "from pyspark.sql.types import StructType, StringType, DoubleType, IntegerType, DateType\n",
    "import pyspark.sql.functions as f\n",
    "import os\n",
    "from custom_utils import project_base_dir, fuel_type, rolling_window_size, visualisation_dir\n",
    "import pandas as pd\n",
    "import matplotlib.pyplot as plt"
   ]
  },
  {
   "cell_type": "code",
   "execution_count": 2,
   "id": "0271d3df",
   "metadata": {},
   "outputs": [
    {
     "name": "stderr",
     "output_type": "stream",
     "text": [
      "23/10/21 14:24:13 WARN Utils: Your hostname, DIC resolves to a loopback address: 127.0.1.1; using 10.0.2.15 instead (on interface enp0s3)\n",
      "23/10/21 14:24:13 WARN Utils: Set SPARK_LOCAL_IP if you need to bind to another address\n",
      "Setting default log level to \"WARN\".\n",
      "To adjust logging level use sc.setLogLevel(newLevel). For SparkR, use setLogLevel(newLevel).\n",
      "23/10/21 14:24:13 WARN NativeCodeLoader: Unable to load native-hadoop library for your platform... using builtin-java classes where applicable\n"
     ]
    }
   ],
   "source": [
    "spark = SparkSession.\\\n",
    "    builder.\\\n",
    "    appName(\"ml_training-notebook\").\\\n",
    "    getOrCreate()"
   ]
  },
  {
   "cell_type": "code",
   "execution_count": 3,
   "id": "d9782878",
   "metadata": {},
   "outputs": [],
   "source": [
    "training_schema = StructType() \\\n",
    "      .add(\"station_uuid\",StringType(),True) \\\n",
    "      .add(\"date\",DateType(),True) \\\n",
    "      .add(\"hour\",IntegerType(),True) \\\n",
    "      .add(\"weekday\",IntegerType(),True) \\\n",
    "      .add(\"deviation\",DoubleType(),True) \\\n",
    "      .add(\"cloudcover\",IntegerType(),True) \\\n",
    "      .add(\"rain\",DoubleType(),True) \\\n",
    "      .add(\"temperature_2m\",DoubleType(),True) \\\n",
    "      .add(\"hour_sin\",DoubleType(),True) \\\n",
    "      .add(\"hour_cos\",DoubleType(),True) \\\n",
    "      .add(\"weekday_sin\",DoubleType(),True) \\\n",
    "      .add(\"weekday_cos\",DoubleType(),True)"
   ]
  },
  {
   "cell_type": "code",
   "execution_count": 4,
   "id": "d7f8fa16",
   "metadata": {},
   "outputs": [],
   "source": [
    "training_dataframe = spark.read.format(\"csv\") \\\n",
    "      .option(\"header\", True) \\\n",
    "      .schema(training_schema) \\\n",
    "      .load(os.path.join(project_base_dir, \"outputs/training_data.csv\"))"
   ]
  },
  {
   "cell_type": "code",
   "execution_count": 5,
   "id": "d552d0ff",
   "metadata": {},
   "outputs": [],
   "source": [
    "input_columns = [\"cloudcover\", \"rain\", \"temperature_2m\", \"hour_sin\", \"hour_cos\", \"weekday_sin\", \"weekday_cos\"]\n",
    "assembler = VectorAssembler(\n",
    "    inputCols=input_columns,\n",
    "    outputCol=\"features\")\n",
    "\n",
    "data = assembler.transform(training_dataframe)\n",
    "final_data = data.select(\"features\", \"deviation\")\n",
    "\n",
    "train_data, test_data = final_data.randomSplit([0.9, 0.1], seed=42)"
   ]
  },
  {
   "cell_type": "code",
   "execution_count": 6,
   "id": "6312b534",
   "metadata": {},
   "outputs": [],
   "source": [
    "def evaluate_predictions(predictions):\n",
    "    evaluator = RegressionEvaluator(labelCol=\"deviation\", predictionCol=\"predicted_deviation\", metricName=\"rmse\")\n",
    "    rmse = evaluator.evaluate(predictions)\n",
    "    print(\"Root Mean Squared Error (RMSE) on test data: {:.3f}\".format(rmse))\n",
    "\n",
    "    evaluator_r2 = RegressionEvaluator(labelCol=\"deviation\", predictionCol=\"predicted_deviation\", metricName=\"r2\")\n",
    "    r2 = evaluator_r2.evaluate(predictions)\n",
    "    print(\"R-squared (R2) on test data: {:.3f}\".format(r2))"
   ]
  },
  {
   "cell_type": "code",
   "execution_count": 7,
   "id": "30da209b",
   "metadata": {},
   "outputs": [],
   "source": [
    "def train_and_evaluate_model(model, training_data, test_data):\n",
    "    l_model = model.fit(training_data)\n",
    "    predictions = l_model.transform(test_data)\n",
    "    evaluate_predictions(predictions)\n",
    "    return l_model"
   ]
  },
  {
   "cell_type": "code",
   "execution_count": 8,
   "id": "f4813d3f",
   "metadata": {},
   "outputs": [],
   "source": [
    "def show_lr_feature_importance(feature_importances, input_columns):\n",
    "    feature_importance = sorted(list(zip(input_columns, map(abs, feature_importances), feature_importances)), key=lambda x: x[1], reverse=True)\n",
    "\n",
    "    print(\"Feature Importance:\")\n",
    "    for feature, importance, coef in feature_importance:\n",
    "        print(\"  {}: {:.5f}\".format(feature, coef))"
   ]
  },
  {
   "cell_type": "code",
   "execution_count": 9,
   "id": "18f8797f",
   "metadata": {},
   "outputs": [],
   "source": [
    "def plot_residuals(predictions, model_name):\n",
    "    residuals_histogram = predictions \\\n",
    "        .withColumn(\"residuals\", f.col(\"predicted_deviation\") - f.col(\"deviation\")) \\\n",
    "        .select('residuals') \\\n",
    "        .rdd.flatMap(lambda x: x) \\\n",
    "        .histogram(50)\n",
    "    \n",
    "    ax = pd.DataFrame(\n",
    "        list(zip(*residuals_histogram)), \n",
    "        columns=['bin', 'frequency']\n",
    "    ).set_index(\n",
    "        'bin'\n",
    "    ).plot(\n",
    "        kind='bar',\n",
    "        figsize=(10, 5),\n",
    "        title=f\"Distribution of residuals with {model_name}\"\n",
    "    )\n",
    "    labels = [item.get_text() for item in ax.get_xticklabels()]\n",
    "    tick_labels = [float(label) for label in labels]\n",
    "    ax.set_xticklabels([f\"{label:.03f}\" for label in tick_labels])\n",
    "    ax.set_xlabel(f\"Error between predicted and actual deviation of the {fuel_type} price from its {rolling_window_size}-day rolling average\")\n",
    "    fig = ax.get_figure()\n",
    "    fig.tight_layout()\n",
    "    fig.savefig(os.path.join(visualisation_dir, f\"{model_name}_prediction_residuals.svg\"))\n",
    "    plt.close(fig)"
   ]
  },
  {
   "cell_type": "markdown",
   "id": "d8eacf88",
   "metadata": {},
   "source": [
    "### Linear regressor"
   ]
  },
  {
   "cell_type": "code",
   "execution_count": 10,
   "id": "df0f6c46",
   "metadata": {},
   "outputs": [],
   "source": [
    "lr = LinearRegression(featuresCol=\"features\", labelCol=\"deviation\", predictionCol=\"predicted_deviation\")"
   ]
  },
  {
   "cell_type": "code",
   "execution_count": 11,
   "id": "33700e9d",
   "metadata": {},
   "outputs": [
    {
     "name": "stderr",
     "output_type": "stream",
     "text": [
      "23/10/21 14:24:18 WARN Instrumentation: [b0d7a8df] regParam is zero, which might cause numerical instability and overfitting.\n",
      "23/10/21 14:24:20 WARN InstanceBuilder: Failed to load implementation from:dev.ludovic.netlib.blas.JNIBLAS\n",
      "23/10/21 14:24:21 WARN InstanceBuilder: Failed to load implementation from:dev.ludovic.netlib.lapack.JNILAPACK\n",
      "                                                                                \r"
     ]
    },
    {
     "name": "stdout",
     "output_type": "stream",
     "text": [
      "Root Mean Squared Error (RMSE) on test data: 0.047\n",
      "R-squared (R2) on test data: 0.345\n"
     ]
    }
   ],
   "source": [
    "lr_model = train_and_evaluate_model(lr, train_data, test_data)"
   ]
  },
  {
   "cell_type": "code",
   "execution_count": 12,
   "id": "ce1d616a",
   "metadata": {},
   "outputs": [
    {
     "name": "stdout",
     "output_type": "stream",
     "text": [
      "Feature Importance:\n",
      "  hour_sin: 0.04546\n",
      "  hour_cos: -0.00571\n",
      "  weekday_sin: -0.00055\n",
      "  rain: -0.00034\n",
      "  weekday_cos: -0.00029\n",
      "  temperature_2m: 0.00010\n",
      "  cloudcover: 0.00002\n"
     ]
    }
   ],
   "source": [
    "show_lr_feature_importance(lr_model.coefficients, input_columns)"
   ]
  },
  {
   "cell_type": "code",
   "execution_count": 13,
   "id": "79d63e0a",
   "metadata": {},
   "outputs": [
    {
     "name": "stderr",
     "output_type": "stream",
     "text": [
      "                                                                                \r"
     ]
    }
   ],
   "source": [
    "plot_residuals(lr_model.transform(test_data), LinearRegression.__name__)"
   ]
  },
  {
   "cell_type": "markdown",
   "id": "fe350687",
   "metadata": {},
   "source": [
    "### Decision tree regressor"
   ]
  },
  {
   "cell_type": "code",
   "execution_count": 14,
   "id": "da220461",
   "metadata": {},
   "outputs": [],
   "source": [
    "dtr = DecisionTreeRegressor(featuresCol=\"features\", labelCol=\"deviation\", predictionCol=\"predicted_deviation\")"
   ]
  },
  {
   "cell_type": "code",
   "execution_count": 15,
   "id": "ac1a2ddf",
   "metadata": {},
   "outputs": [
    {
     "name": "stdout",
     "output_type": "stream",
     "text": [
      "Root Mean Squared Error (RMSE) on test data: 0.040\n",
      "R-squared (R2) on test data: 0.526\n"
     ]
    }
   ],
   "source": [
    "dtr_model = train_and_evaluate_model(dtr, train_data, test_data)"
   ]
  },
  {
   "cell_type": "code",
   "execution_count": 16,
   "id": "46a6c825",
   "metadata": {
    "scrolled": true
   },
   "outputs": [
    {
     "name": "stdout",
     "output_type": "stream",
     "text": [
      "Feature Importance:\n",
      "  hour_sin: 0.76005\n",
      "  temperature_2m: 0.13586\n",
      "  hour_cos: 0.10088\n",
      "  cloudcover: 0.00320\n",
      "  rain: 0.00000\n",
      "  weekday_sin: 0.00000\n",
      "  weekday_cos: 0.00000\n"
     ]
    }
   ],
   "source": [
    "show_lr_feature_importance(dtr_model.featureImportances.toArray(), input_columns)"
   ]
  },
  {
   "cell_type": "code",
   "execution_count": 17,
   "id": "a50a5237",
   "metadata": {},
   "outputs": [],
   "source": [
    "plot_residuals(dtr_model.transform(test_data), DecisionTreeRegressor.__name__)"
   ]
  },
  {
   "cell_type": "markdown",
   "id": "c51ca31c",
   "metadata": {},
   "source": [
    "### Random forest regressor"
   ]
  },
  {
   "cell_type": "code",
   "execution_count": 18,
   "id": "62af945f",
   "metadata": {},
   "outputs": [],
   "source": [
    "rfr = RandomForestRegressor(featuresCol=\"features\", labelCol=\"deviation\", predictionCol=\"predicted_deviation\")"
   ]
  },
  {
   "cell_type": "code",
   "execution_count": 19,
   "id": "255a811e",
   "metadata": {},
   "outputs": [
    {
     "name": "stderr",
     "output_type": "stream",
     "text": [
      "WARNING: An illegal reflective access operation has occurred\n",
      "WARNING: Illegal reflective access by org.apache.spark.util.SizeEstimator$ (file:/home/vboxuser/anaconda3/lib/python3.11/site-packages/pyspark/jars/spark-core_2.12-3.5.0.jar) to field java.nio.charset.Charset.name\n",
      "WARNING: Please consider reporting this to the maintainers of org.apache.spark.util.SizeEstimator$\n",
      "WARNING: Use --illegal-access=warn to enable warnings of further illegal reflective access operations\n",
      "WARNING: All illegal access operations will be denied in a future release\n"
     ]
    },
    {
     "name": "stdout",
     "output_type": "stream",
     "text": [
      "Root Mean Squared Error (RMSE) on test data: 0.040\n",
      "R-squared (R2) on test data: 0.504\n"
     ]
    }
   ],
   "source": [
    "rfr_model = train_and_evaluate_model(rfr, train_data, test_data)"
   ]
  },
  {
   "cell_type": "code",
   "execution_count": 20,
   "id": "c8a26b4b",
   "metadata": {
    "scrolled": true
   },
   "outputs": [
    {
     "name": "stdout",
     "output_type": "stream",
     "text": [
      "Feature Importance:\n",
      "  hour_sin: 0.70380\n",
      "  hour_cos: 0.18665\n",
      "  temperature_2m: 0.09888\n",
      "  cloudcover: 0.00685\n",
      "  weekday_sin: 0.00171\n",
      "  rain: 0.00161\n",
      "  weekday_cos: 0.00050\n"
     ]
    }
   ],
   "source": [
    "show_lr_feature_importance(rfr_model.featureImportances.toArray(), input_columns)"
   ]
  },
  {
   "cell_type": "code",
   "execution_count": 21,
   "id": "41821b69",
   "metadata": {},
   "outputs": [],
   "source": [
    "plot_residuals(rfr_model.transform(test_data), RandomForestRegressor.__name__)"
   ]
  },
  {
   "cell_type": "markdown",
   "id": "a4cc5c6c",
   "metadata": {},
   "source": [
    "### Generalised linear regression"
   ]
  },
  {
   "cell_type": "code",
   "execution_count": 22,
   "id": "5457d8ba",
   "metadata": {},
   "outputs": [],
   "source": [
    "glm = GeneralizedLinearRegression(featuresCol=\"features\",\n",
    "                                  labelCol=\"deviation\",\n",
    "                                  predictionCol=\"predicted_deviation\",\n",
    "                                  family=\"gaussian\",\n",
    "                                  link=\"identity\",\n",
    "                                  maxIter=10,\n",
    "                                  regParam=0.3)"
   ]
  },
  {
   "cell_type": "code",
   "execution_count": 23,
   "id": "60b8b6c1",
   "metadata": {},
   "outputs": [
    {
     "name": "stderr",
     "output_type": "stream",
     "text": [
      "                                                                                \r"
     ]
    },
    {
     "name": "stdout",
     "output_type": "stream",
     "text": [
      "Root Mean Squared Error (RMSE) on test data: 0.054\n",
      "R-squared (R2) on test data: 0.109\n"
     ]
    }
   ],
   "source": [
    "glm_model = train_and_evaluate_model(glm, train_data, test_data)"
   ]
  },
  {
   "cell_type": "code",
   "execution_count": 24,
   "id": "fcfa690a",
   "metadata": {
    "scrolled": false
   },
   "outputs": [
    {
     "name": "stdout",
     "output_type": "stream",
     "text": [
      "Feature Importance:\n",
      "  hour_sin: 0.00728\n",
      "  hour_cos: -0.00300\n",
      "  rain: 0.00024\n",
      "  weekday_sin: -0.00007\n",
      "  temperature_2m: -0.00003\n",
      "  weekday_cos: -0.00002\n",
      "  cloudcover: 0.00001\n"
     ]
    }
   ],
   "source": [
    "show_lr_feature_importance(glm_model.coefficients, input_columns)"
   ]
  },
  {
   "cell_type": "code",
   "execution_count": 25,
   "id": "67cc263e",
   "metadata": {},
   "outputs": [],
   "source": [
    "plot_residuals(glm_model.transform(test_data), GeneralizedLinearRegression.__name__)"
   ]
  }
 ],
 "metadata": {
  "kernelspec": {
   "display_name": "Python 3 (ipykernel)",
   "language": "python",
   "name": "python3"
  },
  "language_info": {
   "codemirror_mode": {
    "name": "ipython",
    "version": 3
   },
   "file_extension": ".py",
   "mimetype": "text/x-python",
   "name": "python",
   "nbconvert_exporter": "python",
   "pygments_lexer": "ipython3",
   "version": "3.11.5"
  }
 },
 "nbformat": 4,
 "nbformat_minor": 5
}
