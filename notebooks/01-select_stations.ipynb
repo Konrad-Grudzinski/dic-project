{
 "cells": [
  {
   "cell_type": "code",
   "execution_count": null,
   "id": "6aa62951",
   "metadata": {},
   "outputs": [],
   "source": [
    "from pyspark.sql import SparkSession\n",
    "from pyspark.sql.types import StructType, StringType, IntegerType, DoubleType\n",
    "from pyspark.sql.functions import lower, lit, regexp_replace, col, contains\n",
    "import os\n",
    "from custom_utils import *"
   ]
  },
  {
   "cell_type": "code",
   "execution_count": null,
   "id": "3d0a29e6",
   "metadata": {},
   "outputs": [],
   "source": [
    "spark = SparkSession.\\\n",
    "    builder.\\\n",
    "    appName(\"preprocessing-notebook\").\\\n",
    "    getOrCreate()"
   ]
  },
  {
   "cell_type": "code",
   "execution_count": null,
   "id": "74001a40",
   "metadata": {
    "scrolled": false
   },
   "outputs": [],
   "source": [
    "station_files = recursive_file_retrieval(os.path.join(project_base_dir, f\"tankerkoenig-data/stations/{year}/\"), month_strings)"
   ]
  },
  {
   "cell_type": "code",
   "execution_count": null,
   "id": "5eda0afe",
   "metadata": {},
   "outputs": [],
   "source": [
    "schema = StructType() \\\n",
    "      .add(\"uuid\",StringType(),True) \\\n",
    "      .add(\"name\",StringType(),True) \\\n",
    "      .add(\"brand\",StringType(),True) \\\n",
    "      .add(\"street\",StringType(),True) \\\n",
    "      .add(\"house_number\",IntegerType(),True) \\\n",
    "      .add(\"post_code\",IntegerType(),True) \\\n",
    "      .add(\"city\",StringType(),True) \\\n",
    "      .add(\"latitude\",DoubleType(),True) \\\n",
    "      .add(\"longitude\",DoubleType(),True) \\\n",
    "      .add(\"first_active\",StringType(),True) \\\n",
    "      .add(\"openingtimes_json\",StringType(),True)"
   ]
  },
  {
   "cell_type": "code",
   "execution_count": null,
   "id": "452e9d21",
   "metadata": {},
   "outputs": [],
   "source": [
    "all_stations = spark.read.format(\"csv\") \\\n",
    "      .option(\"header\", True) \\\n",
    "      .schema(schema) \\\n",
    "      .load(station_files)"
   ]
  },
  {
   "cell_type": "code",
   "execution_count": null,
   "id": "5579c747",
   "metadata": {},
   "outputs": [],
   "source": [
    "all_stations.show(10)\n",
    "print(all_stations.dtypes)\n",
    "print(all_stations.count())"
   ]
  },
  {
   "cell_type": "code",
   "execution_count": null,
   "id": "17487666",
   "metadata": {},
   "outputs": [],
   "source": [
    "lower_brand = \"lower_brand\"\n",
    "brand_stations = all_stations \\\n",
    "    .withColumn(lower_brand, lower(all_stations.brand)) \\\n",
    "    .filter(col(lower_brand) == brand) \\\n",
    "    .drop(lower_brand)"
   ]
  },
  {
   "cell_type": "code",
   "execution_count": null,
   "id": "07429db8",
   "metadata": {},
   "outputs": [],
   "source": [
    "brand_stations.show(10)"
   ]
  },
  {
   "cell_type": "code",
   "execution_count": null,
   "id": "8e07556e",
   "metadata": {},
   "outputs": [],
   "source": [
    "standardised_city = \"standardised_city\"\n",
    "standardised_stations = brand_stations \\\n",
    "    .withColumn('lower_city', lower(brand_stations.city)) \\\n",
    "    .withColumn(standardised_city, regexp_replace(col(\"lower_city\"), lit(\"ü\"), lit(\"ue\"))) \\\n",
    "    .drop(\"lower_city\")"
   ]
  },
  {
   "cell_type": "code",
   "execution_count": null,
   "id": "e3e3a99c",
   "metadata": {},
   "outputs": [],
   "source": [
    "standardised_stations.show(10)"
   ]
  },
  {
   "cell_type": "code",
   "execution_count": null,
   "id": "49bcfda6",
   "metadata": {},
   "outputs": [],
   "source": [
    "city_rlike = f\"({'|'.join(cities)})\"\n",
    "selected_city_stations = standardised_stations \\\n",
    "    .filter(col(standardised_city).rlike(city_rlike))"
   ]
  },
  {
   "cell_type": "code",
   "execution_count": null,
   "id": "64a9bc0e",
   "metadata": {},
   "outputs": [],
   "source": [
    "selected_city_stations.show(10)"
   ]
  },
  {
   "cell_type": "code",
   "execution_count": null,
   "id": "7c7aa9c3",
   "metadata": {},
   "outputs": [],
   "source": [
    "# need to remove Frankfurt an der Oder\n",
    "selected_city_stations_clean = selected_city_stations \\\n",
    "    .where(~(col(standardised_city).contains(\"frankfurt\") & (col(\"latitude\") > 51.5)))"
   ]
  },
  {
   "cell_type": "code",
   "execution_count": null,
   "id": "5622bd4a",
   "metadata": {},
   "outputs": [],
   "source": [
    "selected_city_stations_clean.show(10),\n",
    "print(selected_city_stations_clean.count())"
   ]
  },
  {
   "cell_type": "code",
   "execution_count": null,
   "id": "366b46e6",
   "metadata": {},
   "outputs": [],
   "source": [
    "selected_city_stations_unique = selected_city_stations_clean \\\n",
    "    .dropDuplicates([\"uuid\"]) \\\n",
    "    .drop(\"name\", \"brand\", \"street\", \"house_number\", \"post_code\", \"city\", \"first_active\", \"openingtimes_json\")"
   ]
  },
  {
   "cell_type": "code",
   "execution_count": null,
   "id": "c8accb14",
   "metadata": {},
   "outputs": [],
   "source": [
    "n_stations = selected_city_stations_unique.count()\n",
    "selected_city_stations_unique.show(n_stations)\n",
    "print(n_stations)"
   ]
  },
  {
   "cell_type": "code",
   "execution_count": null,
   "id": "a4f49a3b",
   "metadata": {},
   "outputs": [],
   "source": [
    "selected_city_stations_unique.write.csv(os.path.join(project_base_dir, \"outputs/selected_stations_unique.csv\"))"
   ]
  }
 ],
 "metadata": {
  "kernelspec": {
   "display_name": "Python 3 (ipykernel)",
   "language": "python",
   "name": "python3"
  },
  "language_info": {
   "codemirror_mode": {
    "name": "ipython",
    "version": 3
   },
   "file_extension": ".py",
   "mimetype": "text/x-python",
   "name": "python",
   "nbconvert_exporter": "python",
   "pygments_lexer": "ipython3",
   "version": "3.11.5"
  }
 },
 "nbformat": 4,
 "nbformat_minor": 5
}
