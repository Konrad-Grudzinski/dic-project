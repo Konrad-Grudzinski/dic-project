{
 "cells": [
  {
   "cell_type": "code",
   "execution_count": null,
   "id": "70920362",
   "metadata": {},
   "outputs": [],
   "source": [
    "from pyspark.sql import SparkSession\n",
    "from pyspark.sql.types import StructType, StringType, TimestampType, DoubleType, IntegerType, DateType\n",
    "import pyspark.sql.functions as f\n",
    "import os\n",
    "from custom_utils import *\n",
    "import math"
   ]
  },
  {
   "cell_type": "code",
   "execution_count": null,
   "id": "c6150108",
   "metadata": {},
   "outputs": [],
   "source": [
    "spark = SparkSession.\\\n",
    "    builder.\\\n",
    "    appName(\"merge_weather_and_price_data-notebook\").\\\n",
    "    config(\"spark.mongodb.input.uri\",\"mongodb://127.0.0.1:27017/dic.weather\").\\\n",
    "    config(\"spark.mongodb.output.uri\",\"mongodb://127.0.0.1:27017/dic.weather\").\\\n",
    "    config(\"spark.jars.packages\", \"org.mongodb.spark:mongo-spark-connector_2.12:3.0.1\").\\\n",
    "    getOrCreate()"
   ]
  },
  {
   "cell_type": "code",
   "execution_count": null,
   "id": "647c1355",
   "metadata": {},
   "outputs": [],
   "source": [
    "price_schema = StructType() \\\n",
    "      .add(\"dateTime\",TimestampType(),True) \\\n",
    "      .add(\"station_uuid\",StringType(),True) \\\n",
    "      .add(\"latitude\",DoubleType(),True) \\\n",
    "      .add(\"longitude\",DoubleType(),True) \\\n",
    "      .add(\"date\",DateType(),True) \\\n",
    "      .add(\"hour\",IntegerType(),True) \\\n",
    "      .add(\"weekday\",IntegerType(),True) \\\n",
    "      .add(\"deviation\",DoubleType(),True)"
   ]
  },
  {
   "cell_type": "code",
   "execution_count": null,
   "id": "43b10290",
   "metadata": {},
   "outputs": [],
   "source": [
    "price_data = spark.read.format(\"csv\") \\\n",
    "    .option(\"header\", True) \\\n",
    "    .schema(price_schema) \\\n",
    "    .load(os.path.join(project_base_dir, \"outputs/preprocessed_price_data.csv\"))"
   ]
  },
  {
   "cell_type": "code",
   "execution_count": null,
   "id": "88af59c4",
   "metadata": {},
   "outputs": [],
   "source": [
    "weather_data = spark.read.format(\"com.mongodb.spark.sql.DefaultSource\").load() \\\n",
    "    .withColumn(\"date2\", f.to_date(f.col(\"date\"))) \\\n",
    "    .drop(\"_id\", \"date\") \\\n",
    "    .withColumnRenamed(\"date2\", \"date\")"
   ]
  },
  {
   "cell_type": "code",
   "execution_count": null,
   "id": "af7f9153",
   "metadata": {},
   "outputs": [],
   "source": [
    "weather_data.show(10)\n",
    "print(weather_data.dtypes)\n",
    "print(weather_data.count())"
   ]
  },
  {
   "cell_type": "code",
   "execution_count": null,
   "id": "94ad8355",
   "metadata": {},
   "outputs": [],
   "source": [
    "joined_data = price_data.join(weather_data, [\"station_uuid\", \"date\", \"hour\"])"
   ]
  },
  {
   "cell_type": "code",
   "execution_count": null,
   "id": "1f242a60",
   "metadata": {},
   "outputs": [],
   "source": [
    "joined_data.show(10)\n",
    "print(joined_data.count())"
   ]
  },
  {
   "cell_type": "code",
   "execution_count": null,
   "id": "b855a949",
   "metadata": {},
   "outputs": [],
   "source": [
    "cyclical_encoded_data = joined_data \\\n",
    "    .withColumn(\"hour_sin\", f.sin(2 * math.pi * f.col(\"hour\") / 24)) \\\n",
    "    .withColumn(\"hour_cos\", f.cos(2 * math.pi * f.col(\"hour\") / 24)) \\\n",
    "    .withColumn(\"weekday_sin\", f.sin(2 * math.pi * f.col(\"weekday\") / 7)) \\\n",
    "    .withColumn(\"weekday_cos\", f.cos(2 * math.pi * f.col(\"weekday\") / 7)) \\\n",
    "    .drop(\"hour\", \"weekday\", \"date\", \"dateTime\", \"latitude\", \"longitude\")"
   ]
  },
  {
   "cell_type": "code",
   "execution_count": null,
   "id": "1c1cb0d0",
   "metadata": {},
   "outputs": [],
   "source": [
    "cyclical_encoded_data.show(10)"
   ]
  },
  {
   "cell_type": "code",
   "execution_count": null,
   "id": "57af0353",
   "metadata": {},
   "outputs": [],
   "source": [
    "cyclical_encoded_data.write \\\n",
    "    .option(\"header\",True) \\\n",
    "    .csv(os.path.join(project_base_dir, \"outputs/training_data.csv\"))"
   ]
  }
 ],
 "metadata": {
  "kernelspec": {
   "display_name": "Python 3 (ipykernel)",
   "language": "python",
   "name": "python3"
  },
  "language_info": {
   "codemirror_mode": {
    "name": "ipython",
    "version": 3
   },
   "file_extension": ".py",
   "mimetype": "text/x-python",
   "name": "python",
   "nbconvert_exporter": "python",
   "pygments_lexer": "ipython3",
   "version": "3.11.5"
  }
 },
 "nbformat": 4,
 "nbformat_minor": 5
}
