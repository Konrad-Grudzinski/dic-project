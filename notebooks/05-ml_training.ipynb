{
 "cells": [
  {
   "cell_type": "code",
   "execution_count": 1,
   "id": "aaec7021",
   "metadata": {},
   "outputs": [],
   "source": [
    "from pyspark.ml.regression import LinearRegression, DecisionTreeRegressor, RandomForestRegressor, GeneralizedLinearRegression\n",
    "from pyspark.ml.feature import VectorAssembler\n",
    "from pyspark.ml.evaluation import RegressionEvaluator\n",
    "from pyspark.sql import SparkSession\n",
    "from pyspark.sql.types import StructType, StringType, TimestampType, DoubleType, IntegerType, DateType\n",
    "import pyspark.sql.functions as f\n",
    "import os\n",
    "from custom_utils import project_base_dir"
   ]
  },
  {
   "cell_type": "code",
   "execution_count": null,
   "id": "9e9fcd58",
   "metadata": {},
   "outputs": [],
   "source": [
    "spark = SparkSession.\\\n",
    "    builder.\\\n",
    "    appName(\"ml_training-notebook\").\\\n",
    "    getOrCreate()"
   ]
  },
  {
   "cell_type": "code",
   "execution_count": 3,
   "id": "22d7b789",
   "metadata": {},
   "outputs": [],
   "source": [
    "training_schema = StructType() \\\n",
    "      .add(\"station_uuid\",StringType(),True) \\\n",
    "      .add(\"deviation\",DoubleType(),True) \\\n",
    "      .add(\"cloudcover\",IntegerType(),True) \\\n",
    "      .add(\"rain\",DoubleType(),True) \\\n",
    "      .add(\"temperature_2m\",DoubleType(),True) \\\n",
    "      .add(\"hour_sin\",DoubleType(),True) \\\n",
    "      .add(\"hour_cos\",DoubleType(),True) \\\n",
    "      .add(\"weekday_sin\",DoubleType(),True) \\\n",
    "      .add(\"weekday_cos\",DoubleType(),True)"
   ]
  },
  {
   "cell_type": "code",
   "execution_count": 4,
   "id": "bd5ac78a",
   "metadata": {},
   "outputs": [],
   "source": [
    "training_dataframe = spark.read.format(\"csv\") \\\n",
    "      .option(\"header\", True) \\\n",
    "      .schema(training_schema) \\\n",
    "      .load(os.path.join(project_base_dir, \"outputs/training_data.csv\"))"
   ]
  },
  {
   "cell_type": "code",
   "execution_count": 5,
   "id": "a32499e0",
   "metadata": {},
   "outputs": [],
   "source": [
    "input_columns = [\"cloudcover\", \"rain\", \"temperature_2m\", \"hour_sin\", \"hour_cos\", \"weekday_sin\", \"weekday_cos\"]\n",
    "assembler = VectorAssembler(\n",
    "    inputCols=input_columns,\n",
    "    outputCol=\"features\")\n",
    "\n",
    "data = assembler.transform(training_dataframe)\n",
    "final_data = data.select(\"features\", \"deviation\")\n",
    "\n",
    "train_data, test_data = final_data.randomSplit([0.9, 0.1], seed=42)"
   ]
  },
  {
   "cell_type": "code",
   "execution_count": 6,
   "id": "814dbf53",
   "metadata": {},
   "outputs": [],
   "source": [
    "def evaluate_predictions(predictions):\n",
    "    evaluator = RegressionEvaluator(labelCol=\"deviation\", predictionCol=\"predicted_deviation\", metricName=\"rmse\")\n",
    "    rmse = evaluator.evaluate(predictions)\n",
    "    print(\"Root Mean Squared Error (RMSE) on test data: {:.3f}\".format(rmse))\n",
    "\n",
    "    evaluator_r2 = RegressionEvaluator(labelCol=\"deviation\", predictionCol=\"predicted_deviation\", metricName=\"r2\")\n",
    "    r2 = evaluator_r2.evaluate(predictions)\n",
    "    print(\"R-squared (R2) on test data: {:.3f}\".format(r2))"
   ]
  },
  {
   "cell_type": "code",
   "execution_count": 7,
   "id": "62f0b4db",
   "metadata": {},
   "outputs": [],
   "source": [
    "def train_and_evaluate_model(model, training_data, test_data):\n",
    "    l_model = model.fit(training_data)\n",
    "    predictions = l_model.transform(test_data)\n",
    "    evaluate_predictions(predictions)\n",
    "    return l_model"
   ]
  },
  {
   "cell_type": "code",
   "execution_count": 8,
   "id": "9c74fe89",
   "metadata": {},
   "outputs": [],
   "source": [
    "def show_lr_feature_importance(feature_importances, input_columns):\n",
    "    feature_importance = sorted(list(zip(input_columns, map(abs, feature_importances), feature_importances)), key=lambda x: x[1], reverse=True)\n",
    "\n",
    "    print(\"Feature Importance:\")\n",
    "    for feature, importance, coef in feature_importance:\n",
    "        print(\"  {}: {:.5f}\".format(feature, coef))"
   ]
  },
  {
   "cell_type": "markdown",
   "id": "7846a21f",
   "metadata": {},
   "source": [
    "### Linear regressor"
   ]
  },
  {
   "cell_type": "code",
   "execution_count": 9,
   "id": "782c2396",
   "metadata": {},
   "outputs": [],
   "source": [
    "lr = LinearRegression(featuresCol=\"features\", labelCol=\"deviation\", predictionCol=\"predicted_deviation\")"
   ]
  },
  {
   "cell_type": "code",
   "execution_count": 10,
   "id": "11e407c7",
   "metadata": {},
   "outputs": [
    {
     "name": "stderr",
     "output_type": "stream",
     "text": [
      "23/10/21 01:50:50 WARN Instrumentation: [e6820aa7] regParam is zero, which might cause numerical instability and overfitting.\n",
      "23/10/21 01:50:53 WARN InstanceBuilder: Failed to load implementation from:dev.ludovic.netlib.blas.JNIBLAS\n",
      "23/10/21 01:50:56 WARN InstanceBuilder: Failed to load implementation from:dev.ludovic.netlib.lapack.JNILAPACK\n",
      "                                                                                \r"
     ]
    },
    {
     "name": "stdout",
     "output_type": "stream",
     "text": [
      "Root Mean Squared Error (RMSE) on test data: 0.046\n",
      "R-squared (R2) on test data: 0.350\n"
     ]
    },
    {
     "name": "stderr",
     "output_type": "stream",
     "text": [
      "\r",
      "[Stage 3:>                                                          (0 + 4) / 4]\r",
      "\r",
      "                                                                                \r"
     ]
    }
   ],
   "source": [
    "lr_model = train_and_evaluate_model(lr, train_data, test_data)"
   ]
  },
  {
   "cell_type": "code",
   "execution_count": 11,
   "id": "63d78bd6",
   "metadata": {},
   "outputs": [
    {
     "name": "stdout",
     "output_type": "stream",
     "text": [
      "Feature Importance:\n",
      "  hour_sin: 0.04549\n",
      "  hour_cos: -0.00577\n",
      "  weekday_sin: -0.00040\n",
      "  weekday_cos: -0.00033\n",
      "  rain: -0.00032\n",
      "  temperature_2m: 0.00010\n",
      "  cloudcover: 0.00001\n"
     ]
    }
   ],
   "source": [
    "show_lr_feature_importance(lr_model.coefficients, input_columns)"
   ]
  },
  {
   "cell_type": "markdown",
   "id": "82fff4ed",
   "metadata": {},
   "source": [
    "### Decision tree regressor"
   ]
  },
  {
   "cell_type": "code",
   "execution_count": 12,
   "id": "edb8b31b",
   "metadata": {},
   "outputs": [],
   "source": [
    "dtr = DecisionTreeRegressor(featuresCol=\"features\", labelCol=\"deviation\", predictionCol=\"predicted_deviation\")"
   ]
  },
  {
   "cell_type": "code",
   "execution_count": 13,
   "id": "eee2a3a1",
   "metadata": {},
   "outputs": [
    {
     "name": "stderr",
     "output_type": "stream",
     "text": [
      "                                                                                \r"
     ]
    },
    {
     "name": "stdout",
     "output_type": "stream",
     "text": [
      "Root Mean Squared Error (RMSE) on test data: 0.039\n",
      "R-squared (R2) on test data: 0.523\n"
     ]
    }
   ],
   "source": [
    "dtr_model = train_and_evaluate_model(dtr, train_data, test_data)"
   ]
  },
  {
   "cell_type": "code",
   "execution_count": 14,
   "id": "770f59ff",
   "metadata": {
    "scrolled": true
   },
   "outputs": [
    {
     "name": "stdout",
     "output_type": "stream",
     "text": [
      "Feature Importance:\n",
      "  hour_sin: 0.74776\n",
      "  temperature_2m: 0.13620\n",
      "  hour_cos: 0.11288\n",
      "  cloudcover: 0.00190\n",
      "  rain: 0.00087\n",
      "  weekday_cos: 0.00038\n",
      "  weekday_sin: 0.00000\n"
     ]
    }
   ],
   "source": [
    "show_lr_feature_importance(dtr_model.featureImportances.toArray(), input_columns)"
   ]
  },
  {
   "cell_type": "markdown",
   "id": "78d0e84b",
   "metadata": {},
   "source": [
    "### Random forest regressor"
   ]
  },
  {
   "cell_type": "code",
   "execution_count": 15,
   "id": "3073ae5c",
   "metadata": {},
   "outputs": [],
   "source": [
    "rfr = RandomForestRegressor(featuresCol=\"features\", labelCol=\"deviation\", predictionCol=\"predicted_deviation\")"
   ]
  },
  {
   "cell_type": "code",
   "execution_count": 16,
   "id": "f1383fbb",
   "metadata": {},
   "outputs": [
    {
     "name": "stderr",
     "output_type": "stream",
     "text": [
      "WARNING: An illegal reflective access operation has occurred                    \n",
      "WARNING: Illegal reflective access by org.apache.spark.util.SizeEstimator$ (file:/home/vboxuser/anaconda3/lib/python3.11/site-packages/pyspark/jars/spark-core_2.12-3.5.0.jar) to field java.nio.charset.Charset.name\n",
      "WARNING: Please consider reporting this to the maintainers of org.apache.spark.util.SizeEstimator$\n",
      "WARNING: Use --illegal-access=warn to enable warnings of further illegal reflective access operations\n",
      "WARNING: All illegal access operations will be denied in a future release\n"
     ]
    },
    {
     "name": "stdout",
     "output_type": "stream",
     "text": [
      "Root Mean Squared Error (RMSE) on test data: 0.040\n",
      "R-squared (R2) on test data: 0.510\n"
     ]
    }
   ],
   "source": [
    "rfr_model = train_and_evaluate_model(rfr, train_data, test_data)"
   ]
  },
  {
   "cell_type": "code",
   "execution_count": 17,
   "id": "01ebf6c9",
   "metadata": {
    "scrolled": true
   },
   "outputs": [
    {
     "name": "stdout",
     "output_type": "stream",
     "text": [
      "Feature Importance:\n",
      "  hour_sin: 0.67783\n",
      "  hour_cos: 0.21119\n",
      "  temperature_2m: 0.09909\n",
      "  cloudcover: 0.00904\n",
      "  weekday_sin: 0.00157\n",
      "  rain: 0.00088\n",
      "  weekday_cos: 0.00039\n"
     ]
    }
   ],
   "source": [
    "show_lr_feature_importance(rfr_model.featureImportances.toArray(), input_columns)"
   ]
  },
  {
   "cell_type": "markdown",
   "id": "ad8255ec",
   "metadata": {},
   "source": [
    "### Generalised linear regression"
   ]
  },
  {
   "cell_type": "code",
   "execution_count": 18,
   "id": "63edfb8f",
   "metadata": {},
   "outputs": [],
   "source": [
    "glm = GeneralizedLinearRegression(featuresCol=\"features\",\n",
    "                                  labelCol=\"deviation\",\n",
    "                                  predictionCol=\"predicted_deviation\",\n",
    "                                  family=\"gaussian\",\n",
    "                                  link=\"identity\",\n",
    "                                  maxIter=10,\n",
    "                                  regParam=0.3)"
   ]
  },
  {
   "cell_type": "code",
   "execution_count": 19,
   "id": "2e213ef9",
   "metadata": {},
   "outputs": [
    {
     "name": "stderr",
     "output_type": "stream",
     "text": [
      "                                                                                \r"
     ]
    },
    {
     "name": "stdout",
     "output_type": "stream",
     "text": [
      "Root Mean Squared Error (RMSE) on test data: 0.053\n",
      "R-squared (R2) on test data: 0.112\n"
     ]
    }
   ],
   "source": [
    "glm_model = train_and_evaluate_model(glm, train_data, test_data)"
   ]
  },
  {
   "cell_type": "code",
   "execution_count": 20,
   "id": "4a2a974e",
   "metadata": {
    "scrolled": true
   },
   "outputs": [
    {
     "name": "stdout",
     "output_type": "stream",
     "text": [
      "Feature Importance:\n",
      "  hour_sin: 0.00729\n",
      "  hour_cos: -0.00301\n",
      "  rain: 0.00020\n",
      "  weekday_sin: -0.00006\n",
      "  temperature_2m: -0.00003\n",
      "  weekday_cos: -0.00003\n",
      "  cloudcover: 0.00001\n"
     ]
    }
   ],
   "source": [
    "show_lr_feature_importance(glm_model.coefficients, input_columns)"
   ]
  }
 ],
 "metadata": {
  "kernelspec": {
   "display_name": "Python 3 (ipykernel)",
   "language": "python",
   "name": "python3"
  },
  "language_info": {
   "codemirror_mode": {
    "name": "ipython",
    "version": 3
   },
   "file_extension": ".py",
   "mimetype": "text/x-python",
   "name": "python",
   "nbconvert_exporter": "python",
   "pygments_lexer": "ipython3",
   "version": "3.11.5"
  }
 },
 "nbformat": 4,
 "nbformat_minor": 5
}
